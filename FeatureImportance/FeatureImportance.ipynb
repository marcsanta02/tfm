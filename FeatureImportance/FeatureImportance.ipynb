{
 "cells": [
  {
   "cell_type": "code",
   "execution_count": 1,
   "id": "7bb23018-cf03-4a44-8892-c312a5cd15c3",
   "metadata": {},
   "outputs": [],
   "source": [
    "import pandas as pd\n",
    "import numpy as np\n",
    "from imblearn.under_sampling import RandomUnderSampler\n",
    "import xgboost as xgb\n",
    "import matplotlib.pyplot as plt\n",
    "import seaborn as sns\n",
    "from xgboost.callback import EarlyStopping\n",
    "import json\n"
   ]
  },
  {
   "cell_type": "code",
   "execution_count": 2,
   "id": "ce7b00fe-6a94-472e-87e0-848242fdbadf",
   "metadata": {},
   "outputs": [],
   "source": [
    "CAT_COLS = ['type', 'subtype', 'size_category', 'temperature', 'above_median_access_count', 'above_median_filesize']\n",
    "NUM_COLS = ['stddev_access_date',\n",
    " 'dt_last_access_date',\n",
    " 'dt_second_last_access_date',\n",
    " 'dt_third_last_access_date',\n",
    " 'dt_fourth_last_access_date',\n",
    " 'dt_fifth_last_access_date',\n",
    " 'normalized_access_count',\n",
    " 'normalized_filesize',\n",
    " 'access_count_last_1_day',\n",
    " 'access_count_last_3_days',\n",
    " 'access_count_last_7_days',\n",
    " 'access_count_last_15_days',\n",
    " 'lifetime',\n",
    " 'access_count',\n",
    " 'read_data_per_second']"
   ]
  },
  {
   "cell_type": "code",
   "execution_count": 30,
   "id": "8d859a9f-9fcd-414b-add3-9cd7b439afb1",
   "metadata": {},
   "outputs": [],
   "source": [
    "df = pd.read_csv('../final/Data/sample_processed_dataset.csv')"
   ]
  },
  {
   "cell_type": "code",
   "execution_count": 31,
   "id": "4b102bea-5ad4-457b-920d-673a5224af76",
   "metadata": {},
   "outputs": [],
   "source": [
    "df = df[df['period'] > 115]"
   ]
  },
  {
   "cell_type": "code",
   "execution_count": 32,
   "id": "c8fea5dc-918c-46b4-b776-123533e6c3d1",
   "metadata": {},
   "outputs": [],
   "source": [
    "# We will predict for 10 days into the future, so we will drop the columns that are not needed\n",
    "df.drop(columns=['m_date_window'], inplace=True)\n"
   ]
  },
  {
   "cell_type": "code",
   "execution_count": 33,
   "id": "b1116332-bcde-4c87-b653-92c629f9810e",
   "metadata": {},
   "outputs": [],
   "source": [
    "df[CAT_COLS] = df[CAT_COLS].astype('category')"
   ]
  },
  {
   "cell_type": "code",
   "execution_count": 34,
   "id": "9b00ee98-ab29-46ec-b7bc-b0827958c3aa",
   "metadata": {},
   "outputs": [],
   "source": [
    "dt_cols = [\n",
    "    'dt_last_access_date', 'dt_second_last_access_date',\n",
    "    'dt_third_last_access_date', 'dt_fourth_last_access_date',\n",
    "    'dt_fifth_last_access_date', 'lifetime'\n",
    "]\n",
    "for col in dt_cols:\n",
    "    df[f'log_{col}'] = np.log1p(df[col])\n",
    "df.drop(columns=dt_cols, inplace=True, errors=\"ignore\")\n",
    "access_cols = [\n",
    "    'access_count_last_1_day', 'access_count_last_3_days',\n",
    "    'access_count_last_7_days', 'access_count_last_15_days'\n",
    "]\n",
    "df[access_cols] = df[access_cols].fillna(0)\n",
    "\n",
    "df['ratio_1d_15d'] = df['access_count_last_1_day'] / (df['access_count_last_15_days'] + 1)\n",
    "df['ratio_3d_15d'] = df['access_count_last_3_days'] / (df['access_count_last_15_days'] + 1)\n",
    "df['ratio_1d_3d'] = df['access_count_last_1_day'] / (df['access_count_last_3_days'] + 1)\n",
    "df['ratio_3d_7d'] = df['access_count_last_3_days'] / (df['access_count_last_7_days'] + 1)\n",
    "\n",
    "df['access_trend'] = (\n",
    "    df['access_count_last_1_day'] - df['access_count_last_3_days']/3 +\n",
    "    df['access_count_last_3_days'] - df['access_count_last_7_days']/7\n",
    ")\n",
    "# Ordered mapping (ensure the order is consistent with your definitions)\n",
    "temperature_map = {'cold': 0, 'cold-warm': 1, 'warm-hot': 2, 'hot': 3}\n",
    "size_category_map = {'small': 0, 'medium': 1, 'large': 2, 'xlarge': 3}\n",
    "\n",
    "df['temperature_encoded'] = df['temperature'].map(temperature_map)\n",
    "df['size_category_encoded'] = df['size_category'].map(size_category_map)\n",
    "\n",
    "df.drop(columns=['temperature', 'size_category'], inplace=True, errors='ignore')\n",
    "df['type_binary'] = (df['type'] == 'mc').astype(int)\n",
    "df.drop(columns='type', inplace=True, errors='ignore')"
   ]
  },
  {
   "cell_type": "code",
   "execution_count": 38,
   "id": "e8d81e84-de52-45eb-bdfe-8f4548a2918c",
   "metadata": {},
   "outputs": [],
   "source": [
    "def split_dataframes(start, df=df):\n",
    "    train_window_size = 13\n",
    "    end = start + train_window_size\n",
    "\n",
    "    df_train = df[(df['period'] <= end) & (df['period'] >= start)].copy()\n",
    "    df_val = df[df['period'] == end].copy()\n",
    "    df_test = df[df['period'] == end + 1].copy()\n",
    "    \n",
    "    period_range = end - start\n",
    "    df_train['period_norm'] = (df_train['period'] - start) / period_range\n",
    "    df_val['period_norm'] = (df_val['period'] - start) / period_range\n",
    "    df_test['period_norm'] = (df_test['period'] - start) / period_range\n",
    "\n",
    "    # Save test file_ids before dropping\n",
    "    test_file_ids = df_test[['pnfsid', 'size', 'y1']].reset_index(drop=True)\n",
    "\n",
    "    # Drop columns not used for features\n",
    "    X_train, y_train = df_train.drop(columns=['y1', 'period', 'pnfsid', 'size']), df_train['y1']\n",
    "    X_val, y_val = df_val.drop(columns=['y1', 'period', 'pnfsid', 'size']), df_val['y1']\n",
    "    X_test, y_test = df_test.drop(columns=['y1', 'period', 'pnfsid', 'size']), df_test['y1']\n",
    "\n",
    "    return X_train, y_train, X_val, y_val, X_test, y_test, test_file_ids\n"
   ]
  },
  {
   "cell_type": "code",
   "execution_count": 41,
   "id": "e14a2e19-afc6-4228-8df4-797eb46d4786",
   "metadata": {},
   "outputs": [],
   "source": [
    "def obtain_predictions(X_train, y_train, X_val, y_val, best_params):\n",
    "    # Undersampling\n",
    "    rus = RandomUnderSampler(sampling_strategy=1.0, random_state=42)\n",
    "    X_train_resampled, y_train_resampled = rus.fit_resample(X_train, y_train)\n",
    "\n",
    "    # DMatrix for XGBoost\n",
    "    dtrain = xgb.DMatrix(X_train_resampled, label=y_train_resampled, enable_categorical=True)\n",
    "    dval = xgb.DMatrix(X_val, label=y_val, enable_categorical=True)\n",
    "    \n",
    "\n",
    "    # Model parameters\n",
    "    params = {\n",
    "        'objective': 'binary:logistic',\n",
    "        'max_depth': best_params['max_depth'],\n",
    "        'learning_rate': best_params['learning_rate'],\n",
    "        'subsample': best_params['subsample'],\n",
    "        'colsample_bytree': best_params['colsample_bytree'],\n",
    "        'min_child_weight': best_params['min_child_weight'],\n",
    "        'gamma': best_params['gamma'],\n",
    "        'reg_alpha': best_params['reg_alpha'],\n",
    "        'reg_lambda': best_params['reg_lambda'],\n",
    "    }\n",
    "\n",
    "    early_stop = EarlyStopping(rounds=best_params['early_stopping_rounds'], min_delta=best_params['min_delta'], save_best=True)\n",
    "    model = xgb.train(\n",
    "        params,\n",
    "        dtrain,\n",
    "        num_boost_round=1000,\n",
    "        evals=[(dtrain, 'train'), (dval, 'eval')],\n",
    "        callbacks=[early_stop],\n",
    "        verbose_eval=False\n",
    "    )\n",
    "\n",
    "    # Predict\n",
    "    return model"
   ]
  },
  {
   "cell_type": "code",
   "execution_count": 64,
   "id": "f80d5e1a-09fe-4cc3-b833-12cc862f4505",
   "metadata": {},
   "outputs": [],
   "source": [
    "START_I = 115\n",
    "TOP_N = 10          # how many features to show in the plot\n",
    "N_PERIODS = 30      # number of windows to evaluate\n",
    "RANDOM_SEED = 42    # only used if you switch to random sampling\n",
    "\n",
    "max_i = df['period'].max() - 14  # as you had"
   ]
  },
  {
   "cell_type": "code",
   "execution_count": 65,
   "id": "da6b16c3-4f59-4bfc-8699-d67f1f061bea",
   "metadata": {},
   "outputs": [],
   "source": [
    "def params_file_for_period(i: int) -> str:\n",
    "    block_start = i - (i % 14)\n",
    "    if block_start <= 182:\n",
    "        return f\"v2_best_params_period_{block_start}_{block_start+13}.json\"\n",
    "    else:\n",
    "        return \"v2_best_params_period_182_195.json\""
   ]
  },
  {
   "cell_type": "code",
   "execution_count": 66,
   "id": "02f508db-a173-452a-becb-c26c58266ce1",
   "metadata": {},
   "outputs": [
    {
     "name": "stdout",
     "output_type": "stream",
     "text": [
      "Selected periods: [115, 117, 120, 122, 125, 127, 130, 132, 135, 137, 140, 143, 145, 148, 150, 153, 155, 158, 160, 163, 166, 168, 171, 173, 176, 178, 181, 183, 186, 189]\n"
     ]
    }
   ],
   "source": [
    "candidate_is = np.linspace(START_I, max_i - 1, num=N_PERIODS, dtype=int)\n",
    "# ensure uniqueness & sorting (linspace with dtype=int can duplicate edges)\n",
    "selected_is = np.unique(candidate_is)\n",
    "if selected_is.size < N_PERIODS:\n",
    "    # pad by stepping backwards if needed\n",
    "    needed = N_PERIODS - selected_is.size\n",
    "    extras = []\n",
    "    step = max(1, (max_i - START_I) // (N_PERIODS * 2))\n",
    "    cur = max_i - 1\n",
    "    while len(extras) < needed and cur >= START_I:\n",
    "        if cur not in selected_is:\n",
    "            extras.append(cur)\n",
    "        cur -= step\n",
    "    selected_is = np.unique(np.concatenate([selected_is, np.array(extras, dtype=int)]))\n",
    "\n",
    "print(\"Selected periods:\", selected_is.tolist())\n",
    "\n",
    "# Storage for per-model normalized importance vectors\n",
    "importance_rows = []\n",
    "all_features = None  # will set from first X_train\n",
    "\n",
    "for idx, i in enumerate(selected_is, 1):\n",
    "    # Load best params for this period's block\n",
    "    with open(params_file_for_period(i), 'r') as f:\n",
    "        best_params = json.load(f)\n",
    "\n",
    "    # Your split function\n",
    "    X_train, y_train, X_val, y_val, X_test, y_test, test_file_ids = split_dataframes(i, df)\n",
    "    if all_features is None:\n",
    "        all_features = list(X_train.columns)\n",
    "        \n",
    "    xgboost_model = obtain_predictions(X_train, y_train, X_val, y_val, best_params)\n",
    "    gain = xgboost_model.get_score(importance_type=\"gain\")  \n",
    "\n",
    "    # Convert to full vector over all features, fill missing with 0\n",
    "    s = pd.Series(gain, index=all_features, dtype=float).fillna(0.0)\n",
    "\n",
    "    # Normalize per model so it sums to 1 (avoid divide-by-zero if all zeros)\n",
    "    total = s.sum()\n",
    "    if total > 0:\n",
    "        s = s / total\n",
    "    s.name = f\"period_{i}\"\n",
    "    importance_rows.append(s)\n"
   ]
  },
  {
   "cell_type": "code",
   "execution_count": 67,
   "id": "27677a8d-1bdd-45d5-9788-219c93f0441b",
   "metadata": {},
   "outputs": [
    {
     "data": {
      "image/png": "[encoded data removed]",
      "text/plain": [
       "<Figure size 1000x600 with 1 Axes>"
      ]
     },
     "metadata": {},
     "output_type": "display_data"
    },
    {
     "name": "stdout",
     "output_type": "stream",
     "text": [
      "                                mean_importance  std_importance\n",
      "log_dt_fourth_last_access_date         0.095783        0.086888\n",
      "type_binary                            0.092029        0.072377\n",
      "subtype                                0.077067        0.036782\n",
      "log_dt_last_access_date                0.066460        0.027918\n",
      "access_count_last_15_days              0.063175        0.073426\n",
      "log_dt_fifth_last_access_date          0.060742        0.074860\n",
      "log_lifetime                           0.042861        0.012179\n",
      "log_dt_third_last_access_date          0.042769        0.033295\n",
      "access_count                           0.040780        0.015394\n",
      "period_norm                            0.038617        0.009504\n"
     ]
    }
   ],
   "source": [
    "# Assemble matrix: rows = models (periods), cols = features\n",
    "imp_df = pd.DataFrame(importance_rows)\n",
    "mean_imp = imp_df.mean(axis=0)\n",
    "std_imp = imp_df.std(axis=0)\n",
    "\n",
    "# Sort by mean importance\n",
    "order = mean_imp.sort_values(ascending=True).index  # ascending for horizontal barh from bottom to top\n",
    "# Restrict to top N\n",
    "top_features = mean_imp.nlargest(TOP_N).index\n",
    "order_top = mean_imp[top_features].sort_values(ascending=True).index\n",
    "\n",
    "# --- Plot: horizontal bars with std as error bars ---\n",
    "plt.figure(figsize=(10, max(6, int(TOP_N * 0.35))))\n",
    "plt.barh(order_top, mean_imp[order_top], xerr=std_imp[order_top], align='center')\n",
    "plt.xlabel(\"Mean normalized gain importance (±1 std)\")\n",
    "plt.ylabel(\"Feature\")\n",
    "plt.title(f\"XGBoost Feature Importance (Gain) — Averaged over {len(selected_is)} periods\")\n",
    "plt.tight_layout()\n",
    "plt.show()\n",
    "\n",
    "# Optional: inspect aggregated table\n",
    "agg_table = pd.DataFrame({\n",
    "    \"mean_importance\": mean_imp,\n",
    "    \"std_importance\": std_imp\n",
    "}).sort_values(\"mean_importance\", ascending=False)\n",
    "\n",
    "print(agg_table.head(10))"
   ]
  }
 ],
 "metadata": {
  "kernelspec": {
   "display_name": "ML env",
   "language": "python",
   "name": "ml"
  },
  "language_info": {
   "codemirror_mode": {
    "name": "ipython",
    "version": 3
   },
   "file_extension": ".py",
   "mimetype": "text/x-python",
   "name": "python",
   "nbconvert_exporter": "python",
   "pygments_lexer": "ipython3",
   "version": "3.11.13"
  }
 },
 "nbformat": 4,
 "nbformat_minor": 5
}
